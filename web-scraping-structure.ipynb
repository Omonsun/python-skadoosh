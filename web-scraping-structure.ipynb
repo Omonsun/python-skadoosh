{
 "cells": [
  {
   "cell_type": "code",
   "execution_count": 1,
   "id": "6f186cc3",
   "metadata": {},
   "outputs": [],
   "source": [
    "import requests\n",
    "import numpy as np\n",
    "import pandas as pd\n",
    "from bs4 import BeautifulSoup"
   ]
  },
  {
   "cell_type": "code",
   "execution_count": 2,
   "id": "0a4461f2",
   "metadata": {},
   "outputs": [],
   "source": [
    "url=\"https://decantworldbd.com/product-category/mens-perfume/\"\n",
    "head2=({\"User-Agent\":\"Mozilla/5.0 (Windows NT 10.0; Win64; x64) AppleWebKit/537.36 (KHTML, like Gecko) Chrome/128.0.0.0 Safari/537.36\",'Accept-Language': 'en-US, en;q=0.5'})\n"
   ]
  },
  {
   "cell_type": "code",
   "execution_count": 3,
   "id": "b39a0b14",
   "metadata": {},
   "outputs": [],
   "source": [
    "request=requests.get(url,headers=head2)"
   ]
  },
  {
   "cell_type": "code",
   "execution_count": 4,
   "id": "58b85c0b",
   "metadata": {},
   "outputs": [],
   "source": [
    "html_content=request.content"
   ]
  },
  {
   "cell_type": "code",
   "execution_count": 5,
   "id": "c12cf5dd",
   "metadata": {},
   "outputs": [],
   "source": [
    "soup=BeautifulSoup(html_content,\"html.parser\")"
   ]
  },
  {
   "cell_type": "code",
   "execution_count": 6,
   "id": "d84a0a2c",
   "metadata": {},
   "outputs": [],
   "source": [
    "links=soup.find_all(\"h3\")"
   ]
  },
  {
   "cell_type": "code",
   "execution_count": 7,
   "id": "6317d6d1",
   "metadata": {},
   "outputs": [],
   "source": [
    "link=links[0].find(\"a\").get(\"href\")"
   ]
  },
  {
   "cell_type": "code",
   "execution_count": 8,
   "id": "4ce53266",
   "metadata": {},
   "outputs": [
    {
     "data": {
      "text/plain": [
       "'https://decantworldbd.com/product/acqua-di-gio-edt-for-men-by-giorgio-armani/'"
      ]
     },
     "execution_count": 8,
     "metadata": {},
     "output_type": "execute_result"
    }
   ],
   "source": [
    "link"
   ]
  },
  {
   "cell_type": "code",
   "execution_count": 9,
   "id": "c074b48c",
   "metadata": {},
   "outputs": [],
   "source": [
    "head2=({\"User-Agent\":\"Mozilla/5.0 (Windows NT 10.0; Win64; x64) AppleWebKit/537.36 (KHTML, like Gecko) Chrome/128.0.0.0 Safari/537.36\",'Accept-Language': 'en-US, en;q=0.5'})"
   ]
  },
  {
   "cell_type": "code",
   "execution_count": 10,
   "id": "c577fdc5",
   "metadata": {},
   "outputs": [],
   "source": [
    "new_request=requests.get(link,headers=head2)\n",
    "new_content=new_request.content"
   ]
  },
  {
   "cell_type": "code",
   "execution_count": 11,
   "id": "ba5b3c27",
   "metadata": {},
   "outputs": [],
   "source": [
    "new_soup=BeautifulSoup(new_content,\"html.parser\")"
   ]
  },
  {
   "cell_type": "code",
   "execution_count": 12,
   "id": "1ce7c445",
   "metadata": {},
   "outputs": [],
   "source": [
    "name=new_soup.find(\"h1\").text.strip()"
   ]
  },
  {
   "cell_type": "code",
   "execution_count": 13,
   "id": "1e128670",
   "metadata": {},
   "outputs": [],
   "source": [
    "price=new_soup.find(\"p\",class_=\"price\").text"
   ]
  },
  {
   "cell_type": "code",
   "execution_count": 14,
   "id": "7f559d23",
   "metadata": {},
   "outputs": [],
   "source": [
    "def get_name(soup):\n",
    "    \n",
    "    \n",
    "    try:\n",
    "        name=new_soup.find(\"h1\").text.strip()\n",
    "        \n",
    "    except AttributeError:\n",
    "        \n",
    "        name=\"\"\n",
    "        \n",
    "    return name\n",
    "\n",
    "def get_price(soup):\n",
    "    \n",
    "    try:\n",
    "        \n",
    "        price=new_soup.find(\"p\",class_=\"price\").text\n",
    "        \n",
    "    except AttributeError:\n",
    "        \n",
    "        price=\"\"\n",
    "        \n",
    "    return price"
   ]
  },
  {
   "cell_type": "code",
   "execution_count": 15,
   "id": "9716e363",
   "metadata": {},
   "outputs": [],
   "source": [
    "if __name__ == '__main__':\n",
    "\n",
    "    # add your user agent \n",
    "    url=\"https://decantworldbd.com/product-category/mens-perfume/\"\n",
    "    headers=({\"User-Agent\": \"Mozilla/5.0 (Windows NT 6.1; Win64; x64; rv:47.0) Gecko/20100101 Firefox/47.0\",'Accept-Language': 'en-US, en;q=0.5'})\n",
    "\n",
    "   \n",
    "    # HTTP Request\n",
    "    webpage = requests.get(url, headers=headers)\n",
    "\n",
    "    # Soup Object containing all data\n",
    "    soup = BeautifulSoup(webpage.content, \"html.parser\")\n",
    "\n",
    "    # Fetch links as List of Tag Objects\n",
    "    links=soup.find_all(\"h3\")\n",
    "\n",
    "    # Store the links\n",
    "    links_list = []\n",
    "\n",
    "    # Loop for extracting links from Tag Objects\n",
    "    for link in links:\n",
    "            links_list.append(link.find(\"a\").get(\"href\"))\n",
    "\n",
    "    d = {\"title\":[], \"price\":[]}\n",
    "    \n",
    "    # Loop for extracting product details from each link \n",
    "    for link in links_list:\n",
    "        new_webpage = requests.get(link,headers=head2)\n",
    "\n",
    "        new_soup = BeautifulSoup(new_webpage.content, \"html.parser\")\n",
    "\n",
    "        # Function calls to display all necessary product information\n",
    "        d['title'].append(get_name(new_soup))\n",
    "        d['price'].append(get_price(new_soup))\n",
    "        \n",
    "    \n",
    "    amazon_df = pd.DataFrame.from_dict(d)\n",
    "    amazon_df['title'].replace('', np.nan, inplace=True)\n",
    "    amazon_df = amazon_df.dropna(subset=['title'])\n",
    "    amazon_df.to_csv(\"amazon_data.csv\", header=True, index=False)"
   ]
  },
  {
   "cell_type": "code",
   "execution_count": 16,
   "id": "c36af78c",
   "metadata": {},
   "outputs": [
    {
     "data": {
      "text/html": [
       "<div>\n",
       "<style scoped>\n",
       "    .dataframe tbody tr th:only-of-type {\n",
       "        vertical-align: middle;\n",
       "    }\n",
       "\n",
       "    .dataframe tbody tr th {\n",
       "        vertical-align: top;\n",
       "    }\n",
       "\n",
       "    .dataframe thead th {\n",
       "        text-align: right;\n",
       "    }\n",
       "</style>\n",
       "<table border=\"1\" class=\"dataframe\">\n",
       "  <thead>\n",
       "    <tr style=\"text-align: right;\">\n",
       "      <th></th>\n",
       "      <th>title</th>\n",
       "      <th>price</th>\n",
       "    </tr>\n",
       "  </thead>\n",
       "  <tbody>\n",
       "    <tr>\n",
       "      <th>0</th>\n",
       "      <td>Acqua DI Gio EDT for Men By Giorgio Armani</td>\n",
       "      <td>৳ 500.00 – ৳ 2,700.00</td>\n",
       "    </tr>\n",
       "    <tr>\n",
       "      <th>1</th>\n",
       "      <td>Acqua DI Gio Profondo EDP for Men by Giorgio A...</td>\n",
       "      <td>৳ 650.00 – ৳ 3,750.00</td>\n",
       "    </tr>\n",
       "    <tr>\n",
       "      <th>2</th>\n",
       "      <td>Acqua DI Gio Profumo EDP for Men By Giorgio Ar...</td>\n",
       "      <td>৳ 650.00 – ৳ 3,750.00</td>\n",
       "    </tr>\n",
       "    <tr>\n",
       "      <th>3</th>\n",
       "      <td>Afnan 9am Dive EDP for Men and Women</td>\n",
       "      <td>৳ 300.00 – ৳ 1,650.00</td>\n",
       "    </tr>\n",
       "    <tr>\n",
       "      <th>4</th>\n",
       "      <td>Afnan 9am EDP for Women</td>\n",
       "      <td>৳ 280.00 – ৳ 1,500.00</td>\n",
       "    </tr>\n",
       "    <tr>\n",
       "      <th>5</th>\n",
       "      <td>Afnan 9pm for Men EDP</td>\n",
       "      <td>৳ 280.00 – ৳ 1,500.00</td>\n",
       "    </tr>\n",
       "    <tr>\n",
       "      <th>6</th>\n",
       "      <td>Afnan Supremacy in Oud EDP for women and men</td>\n",
       "      <td>৳ 400.00 – ৳ 2,250.00</td>\n",
       "    </tr>\n",
       "    <tr>\n",
       "      <th>7</th>\n",
       "      <td>Afnan Supremacy Not Only Intense EDP for Men</td>\n",
       "      <td>৳ 450.00 – ৳ 2,610.00</td>\n",
       "    </tr>\n",
       "    <tr>\n",
       "      <th>8</th>\n",
       "      <td>Afnan Turathi Blue EDP for Men</td>\n",
       "      <td>৳ 350.00 – ৳ 1,950.00</td>\n",
       "    </tr>\n",
       "    <tr>\n",
       "      <th>9</th>\n",
       "      <td>Afnan Turathi Brown EDP for Men</td>\n",
       "      <td>৳ 370.00 – ৳ 2,100.00</td>\n",
       "    </tr>\n",
       "    <tr>\n",
       "      <th>10</th>\n",
       "      <td>Ahmed Al Maghribi Azure Royal EDP for Men</td>\n",
       "      <td>৳ 320.00 – ৳ 1,710.00</td>\n",
       "    </tr>\n",
       "    <tr>\n",
       "      <th>11</th>\n",
       "      <td>Ahmed Al Maghribi Rawdha EDP for Men and Women</td>\n",
       "      <td>৳ 750.00 – ৳ 2,100.00</td>\n",
       "    </tr>\n",
       "  </tbody>\n",
       "</table>\n",
       "</div>"
      ],
      "text/plain": [
       "                                                title                  price\n",
       "0          Acqua DI Gio EDT for Men By Giorgio Armani  ৳ 500.00 – ৳ 2,700.00\n",
       "1   Acqua DI Gio Profondo EDP for Men by Giorgio A...  ৳ 650.00 – ৳ 3,750.00\n",
       "2   Acqua DI Gio Profumo EDP for Men By Giorgio Ar...  ৳ 650.00 – ৳ 3,750.00\n",
       "3                Afnan 9am Dive EDP for Men and Women  ৳ 300.00 – ৳ 1,650.00\n",
       "4                             Afnan 9am EDP for Women  ৳ 280.00 – ৳ 1,500.00\n",
       "5                               Afnan 9pm for Men EDP  ৳ 280.00 – ৳ 1,500.00\n",
       "6        Afnan Supremacy in Oud EDP for women and men  ৳ 400.00 – ৳ 2,250.00\n",
       "7        Afnan Supremacy Not Only Intense EDP for Men  ৳ 450.00 – ৳ 2,610.00\n",
       "8                      Afnan Turathi Blue EDP for Men  ৳ 350.00 – ৳ 1,950.00\n",
       "9                     Afnan Turathi Brown EDP for Men  ৳ 370.00 – ৳ 2,100.00\n",
       "10          Ahmed Al Maghribi Azure Royal EDP for Men  ৳ 320.00 – ৳ 1,710.00\n",
       "11     Ahmed Al Maghribi Rawdha EDP for Men and Women  ৳ 750.00 – ৳ 2,100.00"
      ]
     },
     "execution_count": 16,
     "metadata": {},
     "output_type": "execute_result"
    }
   ],
   "source": [
    "amazon_df"
   ]
  },
  {
   "cell_type": "code",
   "execution_count": 19,
   "id": "07ce6fee",
   "metadata": {},
   "outputs": [
    {
     "name": "stdout",
     "output_type": "stream",
     "text": [
      "Scraping complete. Data saved to perfume_df.csv\n"
     ]
    }
   ],
   "source": [
    "import requests\n",
    "from bs4 import BeautifulSoup\n",
    "import pandas as pd\n",
    "import numpy as np\n",
    "\n",
    "is_scrapping = True\n",
    "current_page = 1\n",
    "scrapped_data = []\n",
    "\n",
    "# Define functions for extracting name and price\n",
    "def get_name(soup):\n",
    "    return soup.find(\"h1\", class_=\"product_title\").text.strip()\n",
    "\n",
    "def get_price(soup):\n",
    "    price_element = soup.find(\"p\", class_=\"price\").text.strip()\n",
    "    return price_element\n",
    "\n",
    "# Add your user agent\n",
    "headers = {\n",
    "    \"User-Agent\": \"Mozilla/5.0 (Windows NT 6.1; Win64; x64; rv:47.0) Gecko/20100101 Firefox/47.0\",\n",
    "    'Accept-Language': 'en-US, en;q=0.5'\n",
    "}\n",
    "\n",
    "# Initialize a dictionary to store product data\n",
    "d = {\"title\": [], \"price\": []}\n",
    "\n",
    "while is_scrapping:\n",
    "    url = f\"https://decantworldbd.com/product-category/mens-perfume/page/{current_page}/\"\n",
    "\n",
    "    # HTTP Request\n",
    "    webpage = requests.get(url, headers=headers)\n",
    "\n",
    "    # Parse the page content with BeautifulSoup\n",
    "    soup = BeautifulSoup(webpage.content, \"html.parser\")\n",
    "\n",
    "    # Find product links\n",
    "    links = soup.find_all(\"h3\")\n",
    "\n",
    "    # Store the links in a list\n",
    "    links_list = [link.find(\"a\").get(\"href\") for link in links]\n",
    "\n",
    "    # Extract product details from each link\n",
    "    for link in links_list:\n",
    "        new_webpage = requests.get(link, headers=headers)\n",
    "        new_soup = BeautifulSoup(new_webpage.content, \"html.parser\")\n",
    "\n",
    "        # Get and append product details\n",
    "        d['title'].append(get_name(new_soup))\n",
    "        d['price'].append(get_price(new_soup))\n",
    "\n",
    "    # Check if there's a next page link\n",
    "    next_page = soup.find(\"a\", class_=\"next page-numbers\")\n",
    "    if next_page:\n",
    "        current_page += 1  # Move to the next page\n",
    "    else:\n",
    "        is_scrapping = False  # Stop if no next page\n",
    "\n",
    "# Create a DataFrame from the scraped data\n",
    "perfume_df = pd.DataFrame.from_dict(d)\n",
    "\n",
    "# Clean up DataFrame and save to CSV\n",
    "perfume_df = perfume_df.dropna(subset=['title'])\n",
    "perfume_df = perfume_df.dropna(subset=['title'])\n",
    "perfume_df.to_csv(\"perfume_df.csv\", header=True, index=False)\n",
    "\n",
    "print(\"Scraping complete. Data saved to perfume_df.csv\")\n"
   ]
  },
  {
   "cell_type": "code",
   "execution_count": 20,
   "id": "c0fac416",
   "metadata": {},
   "outputs": [
    {
     "data": {
      "text/html": [
       "<div>\n",
       "<style scoped>\n",
       "    .dataframe tbody tr th:only-of-type {\n",
       "        vertical-align: middle;\n",
       "    }\n",
       "\n",
       "    .dataframe tbody tr th {\n",
       "        vertical-align: top;\n",
       "    }\n",
       "\n",
       "    .dataframe thead th {\n",
       "        text-align: right;\n",
       "    }\n",
       "</style>\n",
       "<table border=\"1\" class=\"dataframe\">\n",
       "  <thead>\n",
       "    <tr style=\"text-align: right;\">\n",
       "      <th></th>\n",
       "      <th>title</th>\n",
       "      <th>price</th>\n",
       "    </tr>\n",
       "  </thead>\n",
       "  <tbody>\n",
       "    <tr>\n",
       "      <th>0</th>\n",
       "      <td>Acqua DI Gio EDT for Men By Giorgio Armani</td>\n",
       "      <td>৳ 500.00 – ৳ 2,700.00</td>\n",
       "    </tr>\n",
       "    <tr>\n",
       "      <th>1</th>\n",
       "      <td>Acqua DI Gio Profondo EDP for Men by Giorgio A...</td>\n",
       "      <td>৳ 650.00 – ৳ 3,750.00</td>\n",
       "    </tr>\n",
       "    <tr>\n",
       "      <th>2</th>\n",
       "      <td>Acqua DI Gio Profumo EDP for Men By Giorgio Ar...</td>\n",
       "      <td>৳ 650.00 – ৳ 3,750.00</td>\n",
       "    </tr>\n",
       "    <tr>\n",
       "      <th>3</th>\n",
       "      <td>Afnan 9am Dive EDP for Men and Women</td>\n",
       "      <td>৳ 300.00 – ৳ 1,650.00</td>\n",
       "    </tr>\n",
       "    <tr>\n",
       "      <th>4</th>\n",
       "      <td>Afnan 9am EDP for Women</td>\n",
       "      <td>৳ 280.00 – ৳ 1,500.00</td>\n",
       "    </tr>\n",
       "    <tr>\n",
       "      <th>...</th>\n",
       "      <td>...</td>\n",
       "      <td>...</td>\n",
       "    </tr>\n",
       "    <tr>\n",
       "      <th>204</th>\n",
       "      <td>YSL Y EDP for Men</td>\n",
       "      <td>৳ 650.00 – ৳ 3,750.00</td>\n",
       "    </tr>\n",
       "    <tr>\n",
       "      <th>205</th>\n",
       "      <td>Zara Vibrant Leather Eclat de Bergamote for Men</td>\n",
       "      <td>৳ 350.00 – ৳ 1,550.00</td>\n",
       "    </tr>\n",
       "    <tr>\n",
       "      <th>206</th>\n",
       "      <td>Zara Vibrant Leather Summer EDP  for men</td>\n",
       "      <td>৳ 170.00 – ৳ 900.00</td>\n",
       "    </tr>\n",
       "    <tr>\n",
       "      <th>207</th>\n",
       "      <td>Zeleny by Ahmed Al Maghribi for Men and Women</td>\n",
       "      <td>৳ 250.00 – ৳ 1,350.00</td>\n",
       "    </tr>\n",
       "    <tr>\n",
       "      <th>208</th>\n",
       "      <td>Zimaya Sharaf Blend EDP for Men &amp; Women</td>\n",
       "      <td>৳ 270.00 – ৳ 1,500.00</td>\n",
       "    </tr>\n",
       "  </tbody>\n",
       "</table>\n",
       "<p>209 rows × 2 columns</p>\n",
       "</div>"
      ],
      "text/plain": [
       "                                                 title                  price\n",
       "0           Acqua DI Gio EDT for Men By Giorgio Armani  ৳ 500.00 – ৳ 2,700.00\n",
       "1    Acqua DI Gio Profondo EDP for Men by Giorgio A...  ৳ 650.00 – ৳ 3,750.00\n",
       "2    Acqua DI Gio Profumo EDP for Men By Giorgio Ar...  ৳ 650.00 – ৳ 3,750.00\n",
       "3                 Afnan 9am Dive EDP for Men and Women  ৳ 300.00 – ৳ 1,650.00\n",
       "4                              Afnan 9am EDP for Women  ৳ 280.00 – ৳ 1,500.00\n",
       "..                                                 ...                    ...\n",
       "204                                  YSL Y EDP for Men  ৳ 650.00 – ৳ 3,750.00\n",
       "205    Zara Vibrant Leather Eclat de Bergamote for Men  ৳ 350.00 – ৳ 1,550.00\n",
       "206           Zara Vibrant Leather Summer EDP  for men    ৳ 170.00 – ৳ 900.00\n",
       "207      Zeleny by Ahmed Al Maghribi for Men and Women  ৳ 250.00 – ৳ 1,350.00\n",
       "208            Zimaya Sharaf Blend EDP for Men & Women  ৳ 270.00 – ৳ 1,500.00\n",
       "\n",
       "[209 rows x 2 columns]"
      ]
     },
     "execution_count": 20,
     "metadata": {},
     "output_type": "execute_result"
    }
   ],
   "source": [
    "perfume_df\n"
   ]
  },
  {
   "cell_type": "code",
   "execution_count": null,
   "id": "33bbbf8d",
   "metadata": {},
   "outputs": [],
   "source": []
  }
 ],
 "metadata": {
  "kernelspec": {
   "display_name": "Python 3 (ipykernel)",
   "language": "python",
   "name": "python3"
  },
  "language_info": {
   "codemirror_mode": {
    "name": "ipython",
    "version": 3
   },
   "file_extension": ".py",
   "mimetype": "text/x-python",
   "name": "python",
   "nbconvert_exporter": "python",
   "pygments_lexer": "ipython3",
   "version": "3.9.12"
  }
 },
 "nbformat": 4,
 "nbformat_minor": 5
}
